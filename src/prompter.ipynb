{
 "cells": [
  {
   "cell_type": "markdown",
   "id": "e0f3df7b",
   "metadata": {},
   "source": [
    "Importing the relevant information"
   ]
  },
  {
   "cell_type": "code",
   "execution_count": null,
   "id": "3329d594",
   "metadata": {
    "vscode": {
     "languageId": "plaintext"
    }
   },
   "outputs": [],
   "source": [
    "import os \n",
    "import anthropic\n",
    "\n",
    "client = anthropic.Anthropic()\n",
    "anthropic.api_key = os.environ.get('claudekey')\n",
    "\n"
   ]
  }
 ],
 "metadata": {
  "language_info": {
   "name": "python"
  }
 },
 "nbformat": 4,
 "nbformat_minor": 5
}
