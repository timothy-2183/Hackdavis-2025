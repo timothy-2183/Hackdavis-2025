{
 "cells": [
  {
   "cell_type": "markdown",
   "id": "e0f3df7b",
   "metadata": {},
   "source": [
    "Importing the relevant information"
   ]
  },
  {
   "cell_type": "code",
   "execution_count": null,
   "id": "3329d594",
   "metadata": {},
   "outputs": [
    {
     "name": "stdout",
     "output_type": "stream",
     "text": [
      "2.32.3\n",
      "Defaulting to user installation because normal site-packages is not writeable\n",
      "Requirement already satisfied: requests in /home/vscode/.local/lib/python3.10/site-packages (2.32.3)\n",
      "Requirement already satisfied: urllib3<3,>=1.21.1 in /home/vscode/.local/lib/python3.10/site-packages (from requests) (2.4.0)\n",
      "Requirement already satisfied: idna<4,>=2.5 in /home/vscode/.local/lib/python3.10/site-packages (from requests) (3.10)\n",
      "Requirement already satisfied: charset-normalizer<4,>=2 in /home/vscode/.local/lib/python3.10/site-packages (from requests) (3.4.1)\n",
      "Requirement already satisfied: certifi>=2017.4.17 in /home/vscode/.local/lib/python3.10/site-packages (from requests) (2025.1.31)\n",
      "Note: you may need to restart the kernel to use updated packages.\n"
     ]
    }
   ],
   "source": [
    "import os \n",
    "import requests\n",
    "%pip install requests"
   ]
  },
  {
   "cell_type": "markdown",
   "id": "a423bef0",
   "metadata": {},
   "source": [
    "Function starts here (Make sure to not input the api key)"
   ]
  },
  {
   "cell_type": "code",
   "execution_count": null,
   "id": "c22b0103",
   "metadata": {},
   "outputs": [],
   "source": [
    "def ask_claude(prompt, model=\"claude-3-opus-20240229\", max_tokens=1000, api_key = \"\"):\n",
    "    url = \"https://api.anthropic.com/v1/messages\"\n",
    "    headers = {\n",
    "        \"x-api-key\": api_key,\n",
    "        \"anthropic-version\": \"2023-06-01\",\n",
    "        \"content-type\": \"application/json\"\n",
    "    }\n",
    "    data = {\n",
    "        \"model\": model,\n",
    "        \"max_tokens\": max_tokens,\n",
    "        \"messages\": [\n",
    "            {\"role\": \"user\", \"content\": (prompt+ \" but turn it into a more professional clinical diagnosis while being as concise as possible.\")}\n",
    "        ]\n",
    "    }\n",
    "\n",
    "    try:\n",
    "        response = requests.post(url, headers=headers, json=data)\n",
    "        response.raise_for_status()\n",
    "        return response.json()[\"content\"][0][\"text\"]\n",
    "    except requests.exceptions.RequestException as e:\n",
    "        print(\"Error during request:\", e)\n",
    "        return None\n",
    "    except KeyError:\n",
    "        print(\"Unexpected response structure:\", response.text)\n",
    "        return None\n"
   ]
  },
  {
   "cell_type": "markdown",
   "id": "1cba4380",
   "metadata": {},
   "source": [
    "Testing code\n"
   ]
  },
  {
   "cell_type": "code",
   "execution_count": 36,
   "id": "e33f46d0",
   "metadata": {},
   "outputs": [
    {
     "name": "stdout",
     "output_type": "stream",
     "text": [
      "Upon examination, the patient presents with bilateral knee pain that is exacerbated by ambulation. The pain is described as a dull, aching sensation that is localized to the anterior aspect of both knee joints. The patient reports that the pain is more pronounced during weight-bearing activities and tends to worsen with prolonged walking or standing. No visible swelling, erythema, or deformity is noted in either knee. Range of motion appears to be within normal limits, although some discomfort is elicited at the extremes of flexion and extension. Further diagnostic tests, such as imaging studies and a comprehensive physical examination, may be necessary to determine the underlying cause of the patient's knee pain and to formulate an appropriate treatment plan.\n"
     ]
    }
   ],
   "source": [
    "user_prompt = \"My knees hurt when I walk\"\n",
    "text = ask_claude(user_prompt)\n",
    "print (text)"
   ]
  }
 ],
 "metadata": {
  "kernelspec": {
   "display_name": "Python 3",
   "language": "python",
   "name": "python3"
  },
  "language_info": {
   "codemirror_mode": {
    "name": "ipython",
    "version": 3
   },
   "file_extension": ".py",
   "mimetype": "text/x-python",
   "name": "python",
   "nbconvert_exporter": "python",
   "pygments_lexer": "ipython3",
   "version": "3.10.12"
  }
 },
 "nbformat": 4,
 "nbformat_minor": 5
}
